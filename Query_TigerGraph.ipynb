{
  "cells": [
    {
      "cell_type": "markdown",
      "metadata": {
        "id": "sGh0fvdnqZZX"
      },
      "source": [
        "# Abhyas Edu Context\n",
        "### Note: Choose Nvidia GPU in Google Colab for faster computation"
      ]
    },
    {
      "cell_type": "code",
      "execution_count": 1,
      "metadata": {
        "colab": {
          "base_uri": "https://localhost:8080/"
        },
        "id": "fyE_zUvpsJQW",
        "outputId": "9647d75a-271c-49b4-ddc7-4c6389706d11"
      },
      "outputs": [
        {
          "name": "stdout",
          "output_type": "stream",
          "text": [
            "Tue Apr 19 16:40:12 2022       \n",
            "+-----------------------------------------------------------------------------+\n",
            "| NVIDIA-SMI 460.32.03    Driver Version: 460.32.03    CUDA Version: 11.2     |\n",
            "|-------------------------------+----------------------+----------------------+\n",
            "| GPU  Name        Persistence-M| Bus-Id        Disp.A | Volatile Uncorr. ECC |\n",
            "| Fan  Temp  Perf  Pwr:Usage/Cap|         Memory-Usage | GPU-Util  Compute M. |\n",
            "|                               |                      |               MIG M. |\n",
            "|===============================+======================+======================|\n",
            "|   0  Tesla K80           Off  | 00000000:00:04.0 Off |                    0 |\n",
            "| N/A   50C    P8    59W / 149W |      0MiB / 11441MiB |      0%      Default |\n",
            "|                               |                      |                  N/A |\n",
            "+-------------------------------+----------------------+----------------------+\n",
            "                                                                               \n",
            "+-----------------------------------------------------------------------------+\n",
            "| Processes:                                                                  |\n",
            "|  GPU   GI   CI        PID   Type   Process name                  GPU Memory |\n",
            "|        ID   ID                                                   Usage      |\n",
            "|=============================================================================|\n",
            "|  No running processes found                                                 |\n",
            "+-----------------------------------------------------------------------------+\n"
          ]
        }
      ],
      "source": [
        "# this will tell you if you have an Nvidia GPU attached to your machine or not\n",
        "!nvidia-smi"
      ]
    },
    {
      "cell_type": "code",
      "execution_count": 2,
      "metadata": {
        "colab": {
          "base_uri": "https://localhost:8080/"
        },
        "id": "nrGO0uxt1c54",
        "outputId": "a9d9fc83-5839-40f9-9130-f06b8d3f1e98"
      },
      "outputs": [
        {
          "name": "stdout",
          "output_type": "stream",
          "text": [
            "Requirement already satisfied: pdfplumber in /usr/local/lib/python3.7/dist-packages (0.6.0)\n",
            "Requirement already satisfied: Pillow>=8.4 in /usr/local/lib/python3.7/dist-packages (from pdfplumber) (9.1.0)\n",
            "Requirement already satisfied: Wand>=0.6.7 in /usr/local/lib/python3.7/dist-packages (from pdfplumber) (0.6.7)\n",
            "Requirement already satisfied: pdfminer.six==20211012 in /usr/local/lib/python3.7/dist-packages (from pdfplumber) (20211012)\n",
            "Requirement already satisfied: chardet in /usr/local/lib/python3.7/dist-packages (from pdfminer.six==20211012->pdfplumber) (3.0.4)\n",
            "Requirement already satisfied: cryptography in /usr/local/lib/python3.7/dist-packages (from pdfminer.six==20211012->pdfplumber) (36.0.2)\n",
            "Requirement already satisfied: cffi>=1.12 in /usr/local/lib/python3.7/dist-packages (from cryptography->pdfminer.six==20211012->pdfplumber) (1.15.0)\n",
            "Requirement already satisfied: pycparser in /usr/local/lib/python3.7/dist-packages (from cffi>=1.12->cryptography->pdfminer.six==20211012->pdfplumber) (2.21)\n",
            "Requirement already satisfied: clean-text in /usr/local/lib/python3.7/dist-packages (0.6.0)\n",
            "Requirement already satisfied: ftfy<7.0,>=6.0 in /usr/local/lib/python3.7/dist-packages (from clean-text) (6.1.1)\n",
            "Requirement already satisfied: emoji<2.0.0,>=1.0.0 in /usr/local/lib/python3.7/dist-packages (from clean-text) (1.7.0)\n",
            "Requirement already satisfied: wcwidth>=0.2.5 in /usr/local/lib/python3.7/dist-packages (from ftfy<7.0,>=6.0->clean-text) (0.2.5)\n",
            "Requirement already satisfied: nltk in /usr/local/lib/python3.7/dist-packages (3.2.5)\n",
            "Requirement already satisfied: six in /usr/local/lib/python3.7/dist-packages (from nltk) (1.15.0)\n",
            "Requirement already satisfied: keybert in /usr/local/lib/python3.7/dist-packages (0.5.1)\n",
            "Requirement already satisfied: numpy>=1.18.5 in /usr/local/lib/python3.7/dist-packages (from keybert) (1.21.5)\n",
            "Requirement already satisfied: rich>=10.4.0 in /usr/local/lib/python3.7/dist-packages (from keybert) (12.2.0)\n",
            "Requirement already satisfied: scikit-learn>=0.22.2 in /usr/local/lib/python3.7/dist-packages (from keybert) (1.0.2)\n",
            "Requirement already satisfied: sentence-transformers>=0.3.8 in /usr/local/lib/python3.7/dist-packages (from keybert) (2.2.0)\n",
            "Requirement already satisfied: typing-extensions<5.0,>=4.0.0 in /usr/local/lib/python3.7/dist-packages (from rich>=10.4.0->keybert) (4.1.1)\n",
            "Requirement already satisfied: pygments<3.0.0,>=2.6.0 in /usr/local/lib/python3.7/dist-packages (from rich>=10.4.0->keybert) (2.6.1)\n",
            "Requirement already satisfied: commonmark<0.10.0,>=0.9.0 in /usr/local/lib/python3.7/dist-packages (from rich>=10.4.0->keybert) (0.9.1)\n",
            "Requirement already satisfied: threadpoolctl>=2.0.0 in /usr/local/lib/python3.7/dist-packages (from scikit-learn>=0.22.2->keybert) (3.1.0)\n",
            "Requirement already satisfied: joblib>=0.11 in /usr/local/lib/python3.7/dist-packages (from scikit-learn>=0.22.2->keybert) (1.1.0)\n",
            "Requirement already satisfied: scipy>=1.1.0 in /usr/local/lib/python3.7/dist-packages (from scikit-learn>=0.22.2->keybert) (1.4.1)\n",
            "Requirement already satisfied: transformers<5.0.0,>=4.6.0 in /usr/local/lib/python3.7/dist-packages (from sentence-transformers>=0.3.8->keybert) (4.18.0)\n",
            "Requirement already satisfied: torchvision in /usr/local/lib/python3.7/dist-packages (from sentence-transformers>=0.3.8->keybert) (0.11.1+cu111)\n",
            "Requirement already satisfied: tqdm in /usr/local/lib/python3.7/dist-packages (from sentence-transformers>=0.3.8->keybert) (4.64.0)\n",
            "Requirement already satisfied: nltk in /usr/local/lib/python3.7/dist-packages (from sentence-transformers>=0.3.8->keybert) (3.2.5)\n",
            "Requirement already satisfied: torch>=1.6.0 in /usr/local/lib/python3.7/dist-packages (from sentence-transformers>=0.3.8->keybert) (1.10.0+cu111)\n",
            "Requirement already satisfied: huggingface-hub in /usr/local/lib/python3.7/dist-packages (from sentence-transformers>=0.3.8->keybert) (0.5.1)\n",
            "Requirement already satisfied: sentencepiece in /usr/local/lib/python3.7/dist-packages (from sentence-transformers>=0.3.8->keybert) (0.1.96)\n",
            "Requirement already satisfied: tokenizers!=0.11.3,<0.13,>=0.11.1 in /usr/local/lib/python3.7/dist-packages (from transformers<5.0.0,>=4.6.0->sentence-transformers>=0.3.8->keybert) (0.12.1)\n",
            "Requirement already satisfied: importlib-metadata in /usr/local/lib/python3.7/dist-packages (from transformers<5.0.0,>=4.6.0->sentence-transformers>=0.3.8->keybert) (4.11.3)\n",
            "Requirement already satisfied: packaging>=20.0 in /usr/local/lib/python3.7/dist-packages (from transformers<5.0.0,>=4.6.0->sentence-transformers>=0.3.8->keybert) (21.3)\n",
            "Requirement already satisfied: requests in /usr/local/lib/python3.7/dist-packages (from transformers<5.0.0,>=4.6.0->sentence-transformers>=0.3.8->keybert) (2.23.0)\n",
            "Requirement already satisfied: sacremoses in /usr/local/lib/python3.7/dist-packages (from transformers<5.0.0,>=4.6.0->sentence-transformers>=0.3.8->keybert) (0.0.49)\n",
            "Requirement already satisfied: regex!=2019.12.17 in /usr/local/lib/python3.7/dist-packages (from transformers<5.0.0,>=4.6.0->sentence-transformers>=0.3.8->keybert) (2019.12.20)\n",
            "Requirement already satisfied: filelock in /usr/local/lib/python3.7/dist-packages (from transformers<5.0.0,>=4.6.0->sentence-transformers>=0.3.8->keybert) (3.6.0)\n",
            "Requirement already satisfied: pyyaml>=5.1 in /usr/local/lib/python3.7/dist-packages (from transformers<5.0.0,>=4.6.0->sentence-transformers>=0.3.8->keybert) (6.0)\n",
            "Requirement already satisfied: pyparsing!=3.0.5,>=2.0.2 in /usr/local/lib/python3.7/dist-packages (from packaging>=20.0->transformers<5.0.0,>=4.6.0->sentence-transformers>=0.3.8->keybert) (3.0.8)\n",
            "Requirement already satisfied: zipp>=0.5 in /usr/local/lib/python3.7/dist-packages (from importlib-metadata->transformers<5.0.0,>=4.6.0->sentence-transformers>=0.3.8->keybert) (3.8.0)\n",
            "Requirement already satisfied: six in /usr/local/lib/python3.7/dist-packages (from nltk->sentence-transformers>=0.3.8->keybert) (1.15.0)\n",
            "Requirement already satisfied: urllib3!=1.25.0,!=1.25.1,<1.26,>=1.21.1 in /usr/local/lib/python3.7/dist-packages (from requests->transformers<5.0.0,>=4.6.0->sentence-transformers>=0.3.8->keybert) (1.24.3)\n",
            "Requirement already satisfied: certifi>=2017.4.17 in /usr/local/lib/python3.7/dist-packages (from requests->transformers<5.0.0,>=4.6.0->sentence-transformers>=0.3.8->keybert) (2021.10.8)\n",
            "Requirement already satisfied: idna<3,>=2.5 in /usr/local/lib/python3.7/dist-packages (from requests->transformers<5.0.0,>=4.6.0->sentence-transformers>=0.3.8->keybert) (2.10)\n",
            "Requirement already satisfied: chardet<4,>=3.0.2 in /usr/local/lib/python3.7/dist-packages (from requests->transformers<5.0.0,>=4.6.0->sentence-transformers>=0.3.8->keybert) (3.0.4)\n",
            "Requirement already satisfied: click in /usr/local/lib/python3.7/dist-packages (from sacremoses->transformers<5.0.0,>=4.6.0->sentence-transformers>=0.3.8->keybert) (7.1.2)\n",
            "Requirement already satisfied: pillow!=8.3.0,>=5.3.0 in /usr/local/lib/python3.7/dist-packages (from torchvision->sentence-transformers>=0.3.8->keybert) (9.1.0)\n",
            "Requirement already satisfied: unidecode in /usr/local/lib/python3.7/dist-packages (1.3.4)\n",
            "Requirement already satisfied: transformers in /usr/local/lib/python3.7/dist-packages (4.18.0)\n",
            "Requirement already satisfied: regex!=2019.12.17 in /usr/local/lib/python3.7/dist-packages (from transformers) (2019.12.20)\n",
            "Requirement already satisfied: sacremoses in /usr/local/lib/python3.7/dist-packages (from transformers) (0.0.49)\n",
            "Requirement already satisfied: tqdm>=4.27 in /usr/local/lib/python3.7/dist-packages (from transformers) (4.64.0)\n",
            "Requirement already satisfied: numpy>=1.17 in /usr/local/lib/python3.7/dist-packages (from transformers) (1.21.5)\n",
            "Requirement already satisfied: tokenizers!=0.11.3,<0.13,>=0.11.1 in /usr/local/lib/python3.7/dist-packages (from transformers) (0.12.1)\n",
            "Requirement already satisfied: requests in /usr/local/lib/python3.7/dist-packages (from transformers) (2.23.0)\n",
            "Requirement already satisfied: packaging>=20.0 in /usr/local/lib/python3.7/dist-packages (from transformers) (21.3)\n",
            "Requirement already satisfied: pyyaml>=5.1 in /usr/local/lib/python3.7/dist-packages (from transformers) (6.0)\n",
            "Requirement already satisfied: filelock in /usr/local/lib/python3.7/dist-packages (from transformers) (3.6.0)\n",
            "Requirement already satisfied: importlib-metadata in /usr/local/lib/python3.7/dist-packages (from transformers) (4.11.3)\n",
            "Requirement already satisfied: huggingface-hub<1.0,>=0.1.0 in /usr/local/lib/python3.7/dist-packages (from transformers) (0.5.1)\n",
            "Requirement already satisfied: typing-extensions>=3.7.4.3 in /usr/local/lib/python3.7/dist-packages (from huggingface-hub<1.0,>=0.1.0->transformers) (4.1.1)\n",
            "Requirement already satisfied: pyparsing!=3.0.5,>=2.0.2 in /usr/local/lib/python3.7/dist-packages (from packaging>=20.0->transformers) (3.0.8)\n",
            "Requirement already satisfied: zipp>=0.5 in /usr/local/lib/python3.7/dist-packages (from importlib-metadata->transformers) (3.8.0)\n",
            "Requirement already satisfied: certifi>=2017.4.17 in /usr/local/lib/python3.7/dist-packages (from requests->transformers) (2021.10.8)\n",
            "Requirement already satisfied: idna<3,>=2.5 in /usr/local/lib/python3.7/dist-packages (from requests->transformers) (2.10)\n",
            "Requirement already satisfied: urllib3!=1.25.0,!=1.25.1,<1.26,>=1.21.1 in /usr/local/lib/python3.7/dist-packages (from requests->transformers) (1.24.3)\n",
            "Requirement already satisfied: chardet<4,>=3.0.2 in /usr/local/lib/python3.7/dist-packages (from requests->transformers) (3.0.4)\n",
            "Requirement already satisfied: joblib in /usr/local/lib/python3.7/dist-packages (from sacremoses->transformers) (1.1.0)\n",
            "Requirement already satisfied: six in /usr/local/lib/python3.7/dist-packages (from sacremoses->transformers) (1.15.0)\n",
            "Requirement already satisfied: click in /usr/local/lib/python3.7/dist-packages (from sacremoses->transformers) (7.1.2)\n",
            "Requirement already satisfied: sentence-transformers in /usr/local/lib/python3.7/dist-packages (2.2.0)\n",
            "Requirement already satisfied: numpy in /usr/local/lib/python3.7/dist-packages (from sentence-transformers) (1.21.5)\n",
            "Requirement already satisfied: nltk in /usr/local/lib/python3.7/dist-packages (from sentence-transformers) (3.2.5)\n",
            "Requirement already satisfied: tqdm in /usr/local/lib/python3.7/dist-packages (from sentence-transformers) (4.64.0)\n",
            "Requirement already satisfied: transformers<5.0.0,>=4.6.0 in /usr/local/lib/python3.7/dist-packages (from sentence-transformers) (4.18.0)\n",
            "Requirement already satisfied: torchvision in /usr/local/lib/python3.7/dist-packages (from sentence-transformers) (0.11.1+cu111)\n",
            "Requirement already satisfied: torch>=1.6.0 in /usr/local/lib/python3.7/dist-packages (from sentence-transformers) (1.10.0+cu111)\n",
            "Requirement already satisfied: sentencepiece in /usr/local/lib/python3.7/dist-packages (from sentence-transformers) (0.1.96)\n",
            "Requirement already satisfied: scikit-learn in /usr/local/lib/python3.7/dist-packages (from sentence-transformers) (1.0.2)\n",
            "Requirement already satisfied: huggingface-hub in /usr/local/lib/python3.7/dist-packages (from sentence-transformers) (0.5.1)\n",
            "Requirement already satisfied: scipy in /usr/local/lib/python3.7/dist-packages (from sentence-transformers) (1.4.1)\n",
            "Requirement already satisfied: typing-extensions in /usr/local/lib/python3.7/dist-packages (from torch>=1.6.0->sentence-transformers) (4.1.1)\n",
            "Requirement already satisfied: tokenizers!=0.11.3,<0.13,>=0.11.1 in /usr/local/lib/python3.7/dist-packages (from transformers<5.0.0,>=4.6.0->sentence-transformers) (0.12.1)\n",
            "Requirement already satisfied: importlib-metadata in /usr/local/lib/python3.7/dist-packages (from transformers<5.0.0,>=4.6.0->sentence-transformers) (4.11.3)\n",
            "Requirement already satisfied: packaging>=20.0 in /usr/local/lib/python3.7/dist-packages (from transformers<5.0.0,>=4.6.0->sentence-transformers) (21.3)\n",
            "Requirement already satisfied: regex!=2019.12.17 in /usr/local/lib/python3.7/dist-packages (from transformers<5.0.0,>=4.6.0->sentence-transformers) (2019.12.20)\n",
            "Requirement already satisfied: sacremoses in /usr/local/lib/python3.7/dist-packages (from transformers<5.0.0,>=4.6.0->sentence-transformers) (0.0.49)\n",
            "Requirement already satisfied: pyyaml>=5.1 in /usr/local/lib/python3.7/dist-packages (from transformers<5.0.0,>=4.6.0->sentence-transformers) (6.0)\n",
            "Requirement already satisfied: requests in /usr/local/lib/python3.7/dist-packages (from transformers<5.0.0,>=4.6.0->sentence-transformers) (2.23.0)\n",
            "Requirement already satisfied: filelock in /usr/local/lib/python3.7/dist-packages (from transformers<5.0.0,>=4.6.0->sentence-transformers) (3.6.0)\n",
            "Requirement already satisfied: pyparsing!=3.0.5,>=2.0.2 in /usr/local/lib/python3.7/dist-packages (from packaging>=20.0->transformers<5.0.0,>=4.6.0->sentence-transformers) (3.0.8)\n",
            "Requirement already satisfied: zipp>=0.5 in /usr/local/lib/python3.7/dist-packages (from importlib-metadata->transformers<5.0.0,>=4.6.0->sentence-transformers) (3.8.0)\n",
            "Requirement already satisfied: six in /usr/local/lib/python3.7/dist-packages (from nltk->sentence-transformers) (1.15.0)\n",
            "Requirement already satisfied: urllib3!=1.25.0,!=1.25.1,<1.26,>=1.21.1 in /usr/local/lib/python3.7/dist-packages (from requests->transformers<5.0.0,>=4.6.0->sentence-transformers) (1.24.3)\n",
            "Requirement already satisfied: chardet<4,>=3.0.2 in /usr/local/lib/python3.7/dist-packages (from requests->transformers<5.0.0,>=4.6.0->sentence-transformers) (3.0.4)\n",
            "Requirement already satisfied: idna<3,>=2.5 in /usr/local/lib/python3.7/dist-packages (from requests->transformers<5.0.0,>=4.6.0->sentence-transformers) (2.10)\n",
            "Requirement already satisfied: certifi>=2017.4.17 in /usr/local/lib/python3.7/dist-packages (from requests->transformers<5.0.0,>=4.6.0->sentence-transformers) (2021.10.8)\n",
            "Requirement already satisfied: joblib in /usr/local/lib/python3.7/dist-packages (from sacremoses->transformers<5.0.0,>=4.6.0->sentence-transformers) (1.1.0)\n",
            "Requirement already satisfied: click in /usr/local/lib/python3.7/dist-packages (from sacremoses->transformers<5.0.0,>=4.6.0->sentence-transformers) (7.1.2)\n",
            "Requirement already satisfied: threadpoolctl>=2.0.0 in /usr/local/lib/python3.7/dist-packages (from scikit-learn->sentence-transformers) (3.1.0)\n",
            "Requirement already satisfied: pillow!=8.3.0,>=5.3.0 in /usr/local/lib/python3.7/dist-packages (from torchvision->sentence-transformers) (9.1.0)\n",
            "Requirement already satisfied: tqdm in /usr/local/lib/python3.7/dist-packages (4.64.0)\n"
          ]
        }
      ],
      "source": [
        "# install dependencies\n",
        "# ignore pip dependency warnings/errors (These are Colab specific)\n",
        "\n",
        "!pip install pdfplumber\n",
        "!pip install clean-text\n",
        "!pip install nltk\n",
        "!pip install keybert\n",
        "!pip install unidecode\n",
        "!pip install transformers\n",
        "!pip install sentence-transformers\n",
        "!pip install pyTigerGraph -q\n",
        "!pip install tqdm"
      ]
    },
    {
      "cell_type": "code",
      "execution_count": 2,
      "metadata": {
        "id": "u6s6EbH8qUTC"
      },
      "outputs": [],
      "source": []
    },
    {
      "cell_type": "code",
      "execution_count": 3,
      "metadata": {
        "colab": {
          "base_uri": "https://localhost:8080/"
        },
        "id": "EejqvTlY1c56",
        "outputId": "9414e411-9ede-4a4c-d943-dff2543765b7"
      },
      "outputs": [
        {
          "name": "stdout",
          "output_type": "stream",
          "text": [
            "[nltk_data] Downloading package stopwords to /root/nltk_data...\n",
            "[nltk_data]   Package stopwords is already up-to-date!\n",
            "[nltk_data] Downloading package wordnet to /root/nltk_data...\n",
            "[nltk_data]   Package wordnet is already up-to-date!\n"
          ]
        },
        {
          "data": {
            "text/plain": [
              "True"
            ]
          },
          "execution_count": 3,
          "metadata": {},
          "output_type": "execute_result"
        }
      ],
      "source": [
        "#downloading assets\n",
        "\n",
        "from nltk import download\n",
        "\n",
        "download('stopwords')\n",
        "download('wordnet')"
      ]
    },
    {
      "cell_type": "code",
      "execution_count": 4,
      "metadata": {
        "id": "MPE1f5cy1c56"
      },
      "outputs": [],
      "source": [
        "# keyword extraction\n",
        "\n",
        "from nltk.corpus import stopwords\n",
        "from keybert import KeyBERT\n",
        "from cleantext import clean\n",
        "\n",
        "stop_words = stopwords.words('english')\n",
        "\n",
        "kw_model = KeyBERT()\n",
        "\n",
        "def extract_keywords(sentence):\n",
        "    lis = kw_model.extract_keywords(sentence, keyphrase_ngram_range=(1, 1), stop_words = stop_words, top_n = 3)\n",
        "    clean_list = []\n",
        "    for each in lis:\n",
        "        clean_each = clean(each[0].strip(), no_numbers=True, replace_with_number=\"\", no_punct=True)\n",
        "        if '' != clean_each:\n",
        "            clean_list.append(clean_each)\n",
        "    return clean_list"
      ]
    },
    {
      "cell_type": "code",
      "execution_count": 5,
      "metadata": {
        "colab": {
          "base_uri": "https://localhost:8080/"
        },
        "id": "Jr3BZc9X1c57",
        "outputId": "84d1fb08-a49c-44f3-acf6-40bf30c59f69"
      },
      "outputs": [
        {
          "data": {
            "text/plain": [
              "['war', 'bad']"
            ]
          },
          "execution_count": 5,
          "metadata": {},
          "output_type": "execute_result"
        }
      ],
      "source": [
        "# call the method once to download the required all-MiniLM-L6-v2 (distilled BERT base) model assets\n",
        "\n",
        "extract_keywords('war is bad')"
      ]
    },
    {
      "cell_type": "code",
      "execution_count": 6,
      "metadata": {
        "id": "rrqxlLrs1c58"
      },
      "outputs": [],
      "source": [
        "# embedding extraction\n",
        "\n",
        "from sentence_transformers import SentenceTransformer\n",
        "\n",
        "model = SentenceTransformer('all-MiniLM-L6-v2')\n",
        "\n",
        "def extract_embedding(sentence):\n",
        "    return model.encode(sentence, convert_to_tensor=True)"
      ]
    },
    {
      "cell_type": "code",
      "execution_count": 7,
      "metadata": {
        "id": "5VucDIxK1c59"
      },
      "outputs": [],
      "source": [
        "# call the method once to download the required all-MiniLM-L6-v2 transfer learning model assets \n",
        "# This will not download again if downloaded at the above key word extraction step\n",
        "# only the first call takes time due to assets being downloaded\n",
        "\n",
        "a = extract_embedding('war is bad')\n",
        "b = extract_embedding('war is never good')\n",
        "c = extract_embedding('this is a sunflower')"
      ]
    },
    {
      "cell_type": "code",
      "execution_count": 8,
      "metadata": {
        "id": "IV2osWl81c59"
      },
      "outputs": [],
      "source": [
        "from sentence_transformers import util\n",
        "\n",
        "def similarity_score(embedding1, embedding2):\n",
        "    return float(util.pytorch_cos_sim(embedding1, embedding2)[0][0])"
      ]
    },
    {
      "cell_type": "code",
      "execution_count": 9,
      "metadata": {
        "colab": {
          "base_uri": "https://localhost:8080/"
        },
        "id": "TDMc-Uyk1c5-",
        "outputId": "d703dffc-d288-46b0-b613-9ed98513337c"
      },
      "outputs": [
        {
          "data": {
            "text/plain": [
              "0.8693468570709229"
            ]
          },
          "execution_count": 9,
          "metadata": {},
          "output_type": "execute_result"
        }
      ],
      "source": [
        "similarity_score(a,b)"
      ]
    },
    {
      "cell_type": "code",
      "execution_count": 10,
      "metadata": {
        "colab": {
          "base_uri": "https://localhost:8080/"
        },
        "id": "8F8QMgN21c5-",
        "outputId": "42d22783-9f5b-47de-a787-4a3775df50d6"
      },
      "outputs": [
        {
          "data": {
            "text/plain": [
              "0.09055604040622711"
            ]
          },
          "execution_count": 10,
          "metadata": {},
          "output_type": "execute_result"
        }
      ],
      "source": [
        "similarity_score(a,c)"
      ]
    },
    {
      "cell_type": "code",
      "execution_count": 11,
      "metadata": {
        "colab": {
          "base_uri": "https://localhost:8080/"
        },
        "id": "FX1ITq0t1c5_",
        "outputId": "d375ddf8-3406-4b42-f466-e288b1d75f17"
      },
      "outputs": [
        {
          "data": {
            "text/plain": [
              "0.06450851261615753"
            ]
          },
          "execution_count": 11,
          "metadata": {},
          "output_type": "execute_result"
        }
      ],
      "source": [
        "similarity_score(b,c)"
      ]
    },
    {
      "cell_type": "code",
      "execution_count": 12,
      "metadata": {
        "id": "eIzyJKZ_JgVG"
      },
      "outputs": [],
      "source": [
        "# stemmer\n",
        "\n",
        "from nltk.stem.snowball import SnowballStemmer\n",
        "\n",
        "englishStemmer=SnowballStemmer(\"english\")\n",
        "\n",
        "def stem(word):\n",
        "    return englishStemmer.stem(word)"
      ]
    },
    {
      "cell_type": "code",
      "execution_count": 13,
      "metadata": {
        "colab": {
          "base_uri": "https://localhost:8080/",
          "height": 35
        },
        "id": "5cnKu4b4JlCi",
        "outputId": "be29746e-dc2c-4fa9-9747-563ec8f1e50a"
      },
      "outputs": [
        {
          "data": {
            "application/vnd.google.colaboratory.intrinsic+json": {
              "type": "string"
            },
            "text/plain": [
              "'have'"
            ]
          },
          "execution_count": 13,
          "metadata": {},
          "output_type": "execute_result"
        }
      ],
      "source": [
        "stem('having')"
      ]
    },
    {
      "cell_type": "markdown",
      "metadata": {
        "id": "e7PSmOQX1c6A"
      },
      "source": [
        "# PyTigerGraph"
      ]
    },
    {
      "cell_type": "code",
      "execution_count": 14,
      "metadata": {
        "id": "BoVF449J1c6A"
      },
      "outputs": [],
      "source": [
        "import pyTigerGraph as tg\n",
        "\n",
        "# connection parameters\n",
        "# hostName is the TigerGraph solution URL\n",
        "hostName = \"https://abhyas-edu-context.i.tgcloud.io\"\n",
        "graphName = \"edu_context\"\n",
        "userName = \"tigergraph\"\n",
        "password = \"thisisours\"\n",
        "\n",
        "# establish the connection to the TigerGraph Solution\n",
        "conn = tg.TigerGraphConnection(host=hostName, username=userName, password=password)\n",
        "\n",
        "# set the name of the graph that we want to connect to\n",
        "conn.graphname = graphName\n",
        "\n",
        "# create a secret\n",
        "secret = conn.createSecret()\n",
        "# use the secret to get a token\n",
        "authToken = conn.getToken(secret)[0]\n",
        "\n",
        "# connect to graph with token\n",
        "conn = tg.TigerGraphConnection(host=hostName, username=userName, password=password, graphname=graphName, apiToken=authToken)"
      ]
    },
    {
      "cell_type": "code",
      "execution_count": 15,
      "metadata": {
        "id": "BuJbWVff1c6B"
      },
      "outputs": [],
      "source": [
        "# result = conn.runInstalledQuery(\"get_edu_context\", params={\"inName\": stem(\"software\")})"
      ]
    },
    {
      "cell_type": "code",
      "execution_count": 16,
      "metadata": {
        "collapsed": true,
        "id": "YmpnZ5701c6B",
        "jupyter": {
          "outputs_hidden": true
        }
      },
      "outputs": [],
      "source": [
        "# result[0]['RES'][0]"
      ]
    },
    {
      "cell_type": "code",
      "execution_count": 17,
      "metadata": {
        "id": "2nJBw6Ku1c6C"
      },
      "outputs": [],
      "source": [
        "def get_edu_context(sentence, top_n=10):\n",
        "    sentence_embedding = extract_embedding(sentence)\n",
        "    key_words = extract_keywords(sentence)\n",
        "    edu_context_res = []\n",
        "    \n",
        "    for word in key_words:\n",
        "        this_res = conn.runInstalledQuery(\"get_edu_context\", params={\"inName\": stem(word)})\n",
        "        if this_res[0]['RES'] != [] and this_res[0]['RES'][0]['attributes']['@this_data'] != []:\n",
        "            edu_context_res.append(this_res[0]['RES'][0])\n",
        "    \n",
        "    top_matches = []\n",
        "    \n",
        "    for each in edu_context_res:\n",
        "        for sent_data in each['attributes']['@this_data']:\n",
        "            this_sim_score = similarity_score(extract_embedding(sent_data['sentence']), sentence_embedding)\n",
        "            grade = sent_data['book'].split('_')[0]\n",
        "            subject = sent_data['book'].split('_')[1]\n",
        "            top_matches.append({'sentence': sent_data['sentence'], 'page': sent_data['page'], 'grade':grade, 'subject':subject, 'similarity':this_sim_score })\n",
        "            \n",
        "    top_matches = [dict(t) for t in {tuple(d.items()) for d in top_matches}]\n",
        "    \n",
        "    return sorted(top_matches, key=lambda x: (x[\"similarity\"], x['grade'], x['subject']), reverse=True)[:top_n]"
      ]
    },
    {
      "cell_type": "markdown",
      "metadata": {
        "id": "Rzrm9czk8jU4"
      },
      "source": [
        "# Now, let's find ***Edu Context***!!"
      ]
    },
    {
      "cell_type": "code",
      "execution_count": 18,
      "metadata": {
        "id": "0mvVFAR08g23"
      },
      "outputs": [],
      "source": [
        "import pandas as pd"
      ]
    },
    {
      "cell_type": "code",
      "execution_count": 19,
      "metadata": {
        "id": "NLMRgixjK3Kz"
      },
      "outputs": [],
      "source": [
        "# comment this cell if you're not using google colab\n",
        "\n",
        "from google.colab import data_table\n",
        "data_table.enable_dataframe_formatter()"
      ]
    },
    {
      "cell_type": "code",
      "execution_count": 20,
      "metadata": {
        "colab": {
          "base_uri": "https://localhost:8080/",
          "height": 338
        },
        "id": "zMXvI70y9Euy",
        "outputId": "55e2023b-5cb3-44ab-f0bf-49fd55add238"
      },
      "outputs": [
        {
          "data": {
            "application/vnd.google.colaboratory.module+javascript": "\n      import \"https://ssl.gstatic.com/colaboratory/data_table/81f25a011006ed3d/data_table.js\";\n\n      window.createDataTable({\n        data: [[{\n            'v': 0,\n            'f': \"0\",\n        },\n\" the manner, in which computers have revolutionised our lives because of their accuracy and speed of performing a job, is truly remarkable\",\n{\n            'v': 12,\n            'f': \"12\",\n        },\n\"11\",\n\"python\",\n{\n            'v': 0.7063395977020264,\n            'f': \"0.7063395977020264\",\n        }],\n [{\n            'v': 1,\n            'f': \"1\",\n        },\n\" may it be the field of education and research, travel and tourism, weather forecasting, social networking, e- commerce or any other, computers have now become an indispensable part of our lives\",\n{\n            'v': 12,\n            'f': \"12\",\n        },\n\"11\",\n\"python\",\n{\n            'v': 0.6231294870376587,\n            'f': \"0.6231294870376587\",\n        }],\n [{\n            'v': 2,\n            'f': \"2\",\n        },\n\" the computers that we use today belong to this generation\",\n{\n            'v': 20,\n            'f': \"20\",\n        },\n\"11\",\n\"python\",\n{\n            'v': 0.5932304859161377,\n            'f': \"0.5932304859161377\",\n        }],\n [{\n            'v': 3,\n            'f': \"3\",\n        },\n\" but the computers of today have evolved over the years from a simple calculating device to the portable high speed computers that we see today\",\n{\n            'v': 12,\n            'f': \"12\",\n        },\n\"11\",\n\"python\",\n{\n            'v': 0.5917564630508423,\n            'f': \"0.5917564630508423\",\n        }],\n [{\n            'v': 4,\n            'f': \"4\",\n        },\n\" in simple terms the computers of this generation are supposed to behave like humans\",\n{\n            'v': 21,\n            'f': \"21\",\n        },\n\"11\",\n\"python\",\n{\n            'v': 0.5661169290542603,\n            'f': \"0.5661169290542603\",\n        }],\n [{\n            'v': 5,\n            'f': \"5\",\n        },\n\" computers are very versatile as they do lot of different tasks such as storing data, weather forecasting, booking airline, railway or movie tickets and even playing games\",\n{\n            'v': 21,\n            'f': \"21\",\n        },\n\"11\",\n\"python\",\n{\n            'v': 0.5495345592498779,\n            'f': \"0.5495345592498779\",\n        }],\n [{\n            'v': 6,\n            'f': \"6\",\n        },\n\" the digital computers are used in industrial, business and scientific applications\",\n{\n            'v': 26,\n            'f': \"26\",\n        },\n\"11\",\n\"python\",\n{\n            'v': 0.5282728672027588,\n            'f': \"0.5282728672027588\",\n        }],\n [{\n            'v': 7,\n            'f': \"7\",\n        },\n\" salient features of fifth generation computers: parallel processing superconductivity artificial intelligence computer - data and information we all know what a computer is? it is an electronic device that processes the input according to the set of instructions provided to it and gives the desired output at a very fast rate\",\n{\n            'v': 21,\n            'f': \"21\",\n        },\n\"11\",\n\"python\",\n{\n            'v': 0.5150406360626221,\n            'f': \"0.5150406360626221\",\n        }],\n [{\n            'v': 8,\n            'f': \"8\",\n        },\n\" today no organization can function without a computer\",\n{\n            'v': 12,\n            'f': \"12\",\n        },\n\"11\",\n\"python\",\n{\n            'v': 0.5134528875350952,\n            'f': \"0.5134528875350952\",\n        }],\n [{\n            'v': 9,\n            'f': \"9\",\n        },\n\" we use objects to capture data, which then can be manipulated by computer to provide information\",\n{\n            'v': 112,\n            'f': \"112\",\n        },\n\"11\",\n\"python\",\n{\n            'v': 0.5107265114784241,\n            'f': \"0.5107265114784241\",\n        }]],\n        columns: [[\"number\", \"index\"], [\"string\", \"sentence\"], [\"number\", \"page\"], [\"string\", \"grade\"], [\"string\", \"subject\"], [\"number\", \"similarity\"]],\n        columnOptions: [{\"width\": \"1px\", \"className\": \"index_column\"}],\n        rowsPerPage: 25,\n        helpUrl: \"https://colab.research.google.com/notebooks/data_table.ipynb\",\n        suppressOutputScrolling: true,\n        minimumWidth: undefined,\n      });\n    ",
            "text/html": [
              "\n",
              "  <div id=\"df-217abaf2-d93d-4b6a-ab7d-31c09105628f\">\n",
              "    <div class=\"colab-df-container\">\n",
              "      <div>\n",
              "<style scoped>\n",
              "    .dataframe tbody tr th:only-of-type {\n",
              "        vertical-align: middle;\n",
              "    }\n",
              "\n",
              "    .dataframe tbody tr th {\n",
              "        vertical-align: top;\n",
              "    }\n",
              "\n",
              "    .dataframe thead th {\n",
              "        text-align: right;\n",
              "    }\n",
              "</style>\n",
              "<table border=\"1\" class=\"dataframe\">\n",
              "  <thead>\n",
              "    <tr style=\"text-align: right;\">\n",
              "      <th></th>\n",
              "      <th>sentence</th>\n",
              "      <th>page</th>\n",
              "      <th>grade</th>\n",
              "      <th>subject</th>\n",
              "      <th>similarity</th>\n",
              "    </tr>\n",
              "  </thead>\n",
              "  <tbody>\n",
              "    <tr>\n",
              "      <th>0</th>\n",
              "      <td>the manner, in which computers have revolutio...</td>\n",
              "      <td>12</td>\n",
              "      <td>11</td>\n",
              "      <td>python</td>\n",
              "      <td>0.706340</td>\n",
              "    </tr>\n",
              "    <tr>\n",
              "      <th>1</th>\n",
              "      <td>may it be the field of education and research...</td>\n",
              "      <td>12</td>\n",
              "      <td>11</td>\n",
              "      <td>python</td>\n",
              "      <td>0.623129</td>\n",
              "    </tr>\n",
              "    <tr>\n",
              "      <th>2</th>\n",
              "      <td>the computers that we use today belong to thi...</td>\n",
              "      <td>20</td>\n",
              "      <td>11</td>\n",
              "      <td>python</td>\n",
              "      <td>0.593230</td>\n",
              "    </tr>\n",
              "    <tr>\n",
              "      <th>3</th>\n",
              "      <td>but the computers of today have evolved over ...</td>\n",
              "      <td>12</td>\n",
              "      <td>11</td>\n",
              "      <td>python</td>\n",
              "      <td>0.591756</td>\n",
              "    </tr>\n",
              "    <tr>\n",
              "      <th>4</th>\n",
              "      <td>in simple terms the computers of this generat...</td>\n",
              "      <td>21</td>\n",
              "      <td>11</td>\n",
              "      <td>python</td>\n",
              "      <td>0.566117</td>\n",
              "    </tr>\n",
              "    <tr>\n",
              "      <th>5</th>\n",
              "      <td>computers are very versatile as they do lot o...</td>\n",
              "      <td>21</td>\n",
              "      <td>11</td>\n",
              "      <td>python</td>\n",
              "      <td>0.549535</td>\n",
              "    </tr>\n",
              "    <tr>\n",
              "      <th>6</th>\n",
              "      <td>the digital computers are used in industrial,...</td>\n",
              "      <td>26</td>\n",
              "      <td>11</td>\n",
              "      <td>python</td>\n",
              "      <td>0.528273</td>\n",
              "    </tr>\n",
              "    <tr>\n",
              "      <th>7</th>\n",
              "      <td>salient features of fifth generation computer...</td>\n",
              "      <td>21</td>\n",
              "      <td>11</td>\n",
              "      <td>python</td>\n",
              "      <td>0.515041</td>\n",
              "    </tr>\n",
              "    <tr>\n",
              "      <th>8</th>\n",
              "      <td>today no organization can function without a ...</td>\n",
              "      <td>12</td>\n",
              "      <td>11</td>\n",
              "      <td>python</td>\n",
              "      <td>0.513453</td>\n",
              "    </tr>\n",
              "    <tr>\n",
              "      <th>9</th>\n",
              "      <td>we use objects to capture data, which then ca...</td>\n",
              "      <td>112</td>\n",
              "      <td>11</td>\n",
              "      <td>python</td>\n",
              "      <td>0.510727</td>\n",
              "    </tr>\n",
              "  </tbody>\n",
              "</table>\n",
              "</div>\n",
              "      <button class=\"colab-df-convert\" onclick=\"convertToInteractive('df-217abaf2-d93d-4b6a-ab7d-31c09105628f')\"\n",
              "              title=\"Convert this dataframe to an interactive table.\"\n",
              "              style=\"display:none;\">\n",
              "        \n",
              "  <svg xmlns=\"http://www.w3.org/2000/svg\" height=\"24px\"viewBox=\"0 0 24 24\"\n",
              "       width=\"24px\">\n",
              "    <path d=\"M0 0h24v24H0V0z\" fill=\"none\"/>\n",
              "    <path d=\"M18.56 5.44l.94 2.06.94-2.06 2.06-.94-2.06-.94-.94-2.06-.94 2.06-2.06.94zm-11 1L8.5 8.5l.94-2.06 2.06-.94-2.06-.94L8.5 2.5l-.94 2.06-2.06.94zm10 10l.94 2.06.94-2.06 2.06-.94-2.06-.94-.94-2.06-.94 2.06-2.06.94z\"/><path d=\"M17.41 7.96l-1.37-1.37c-.4-.4-.92-.59-1.43-.59-.52 0-1.04.2-1.43.59L10.3 9.45l-7.72 7.72c-.78.78-.78 2.05 0 2.83L4 21.41c.39.39.9.59 1.41.59.51 0 1.02-.2 1.41-.59l7.78-7.78 2.81-2.81c.8-.78.8-2.07 0-2.86zM5.41 20L4 18.59l7.72-7.72 1.47 1.35L5.41 20z\"/>\n",
              "  </svg>\n",
              "      </button>\n",
              "      \n",
              "  <style>\n",
              "    .colab-df-container {\n",
              "      display:flex;\n",
              "      flex-wrap:wrap;\n",
              "      gap: 12px;\n",
              "    }\n",
              "\n",
              "    .colab-df-convert {\n",
              "      background-color: #E8F0FE;\n",
              "      border: none;\n",
              "      border-radius: 50%;\n",
              "      cursor: pointer;\n",
              "      display: none;\n",
              "      fill: #1967D2;\n",
              "      height: 32px;\n",
              "      padding: 0 0 0 0;\n",
              "      width: 32px;\n",
              "    }\n",
              "\n",
              "    .colab-df-convert:hover {\n",
              "      background-color: #E2EBFA;\n",
              "      box-shadow: 0px 1px 2px rgba(60, 64, 67, 0.3), 0px 1px 3px 1px rgba(60, 64, 67, 0.15);\n",
              "      fill: #174EA6;\n",
              "    }\n",
              "\n",
              "    [theme=dark] .colab-df-convert {\n",
              "      background-color: #3B4455;\n",
              "      fill: #D2E3FC;\n",
              "    }\n",
              "\n",
              "    [theme=dark] .colab-df-convert:hover {\n",
              "      background-color: #434B5C;\n",
              "      box-shadow: 0px 1px 3px 1px rgba(0, 0, 0, 0.15);\n",
              "      filter: drop-shadow(0px 1px 2px rgba(0, 0, 0, 0.3));\n",
              "      fill: #FFFFFF;\n",
              "    }\n",
              "  </style>\n",
              "\n",
              "      <script>\n",
              "        const buttonEl =\n",
              "          document.querySelector('#df-217abaf2-d93d-4b6a-ab7d-31c09105628f button.colab-df-convert');\n",
              "        buttonEl.style.display =\n",
              "          google.colab.kernel.accessAllowed ? 'block' : 'none';\n",
              "\n",
              "        async function convertToInteractive(key) {\n",
              "          const element = document.querySelector('#df-217abaf2-d93d-4b6a-ab7d-31c09105628f');\n",
              "          const dataTable =\n",
              "            await google.colab.kernel.invokeFunction('convertToInteractive',\n",
              "                                                     [key], {});\n",
              "          if (!dataTable) return;\n",
              "\n",
              "          const docLinkHtml = 'Like what you see? Visit the ' +\n",
              "            '<a target=\"_blank\" href=https://colab.research.google.com/notebooks/data_table.ipynb>data table notebook</a>'\n",
              "            + ' to learn more about interactive tables.';\n",
              "          element.innerHTML = '';\n",
              "          dataTable['output_type'] = 'display_data';\n",
              "          await google.colab.output.renderOutput(dataTable, element);\n",
              "          const docLink = document.createElement('div');\n",
              "          docLink.innerHTML = docLinkHtml;\n",
              "          element.appendChild(docLink);\n",
              "        }\n",
              "      </script>\n",
              "    </div>\n",
              "  </div>\n",
              "  "
            ],
            "text/plain": [
              "                                            sentence  page grade subject  \\\n",
              "0   the manner, in which computers have revolutio...    12    11  python   \n",
              "1   may it be the field of education and research...    12    11  python   \n",
              "2   the computers that we use today belong to thi...    20    11  python   \n",
              "3   but the computers of today have evolved over ...    12    11  python   \n",
              "4   in simple terms the computers of this generat...    21    11  python   \n",
              "5   computers are very versatile as they do lot o...    21    11  python   \n",
              "6   the digital computers are used in industrial,...    26    11  python   \n",
              "7   salient features of fifth generation computer...    21    11  python   \n",
              "8   today no organization can function without a ...    12    11  python   \n",
              "9   we use objects to capture data, which then ca...   112    11  python   \n",
              "\n",
              "   similarity  \n",
              "0    0.706340  \n",
              "1    0.623129  \n",
              "2    0.593230  \n",
              "3    0.591756  \n",
              "4    0.566117  \n",
              "5    0.549535  \n",
              "6    0.528273  \n",
              "7    0.515041  \n",
              "8    0.513453  \n",
              "9    0.510727  "
            ]
          },
          "execution_count": 20,
          "metadata": {},
          "output_type": "execute_result"
        }
      ],
      "source": [
        "result = get_edu_context('computers are really important for humanity')\n",
        "pd.DataFrame(result)"
      ]
    },
    {
      "cell_type": "code",
      "execution_count": 24,
      "metadata": {
        "colab": {
          "base_uri": "https://localhost:8080/",
          "height": 304
        },
        "id": "O-1ENbhYJugA",
        "outputId": "cb672917-db8f-499b-a063-91e25c72b4e3"
      },
      "outputs": [
        {
          "data": {
            "application/vnd.google.colaboratory.module+javascript": "\n      import \"https://ssl.gstatic.com/colaboratory/data_table/81f25a011006ed3d/data_table.js\";\n\n      window.createDataTable({\n        data: [[{\n            'v': 0,\n            'f': \"0\",\n        },\n\" this force is called the gravitational force\",\n{\n            'v': 141,\n            'f': \"141\",\n        },\n\"9\",\n\"science\",\n{\n            'v': 0.7981531620025635,\n            'f': \"0.7981531620025635\",\n        }],\n [{\n            'v': 1,\n            'f': \"1\",\n        },\n\" this force is known as the gravitational force\",\n{\n            'v': 149,\n            'f': \"149\",\n        },\n\"8\",\n\"science\",\n{\n            'v': 0.7860392332077026,\n            'f': \"0.7860392332077026\",\n        }],\n [{\n            'v': 2,\n            'f': \"2\",\n        },\n\"4) gives the gravitational force\",\n{\n            'v': 142,\n            'f': \"142\",\n        },\n\"9\",\n\"science\",\n{\n            'v': 0.7122678160667419,\n            'f': \"0.7122678160667419\",\n        }],\n [{\n            'v': 3,\n            'f': \"3\",\n        },\n\" u a force can act on an object with or without gravitational being in contact with it\",\n{\n            'v': 154,\n            'f': \"154\",\n        },\n\"8\",\n\"science\",\n{\n            'v': 0.7006341218948364,\n            'f': \"0.7006341218948364\",\n        }],\n [{\n            'v': 4,\n            'f': \"4\",\n        },\n\" what do we call the gravitational force between the earth and an object? 10\",\n{\n            'v': 154,\n            'f': \"154\",\n        },\n\"9\",\n\"science\",\n{\n            'v': 0.6963350772857666,\n            'f': \"0.6963350772857666\",\n        }],\n [{\n            'v': 5,\n            'f': \"5\",\n        },\n\" force\",\n{\n            'v': 124,\n            'f': \"124\",\n        },\n\"9\",\n\"science\",\n{\n            'v': 0.6756203174591064,\n            'f': \"0.6756203174591064\",\n        }],\n [{\n            'v': 6,\n            'f': \"6\",\n        },\n\" force? the answer to these questions is gravitation 141 2019-2020\",\n{\n            'v': 151,\n            'f': \"151\",\n        },\n\"9\",\n\"science\",\n{\n            'v': 0.671984851360321,\n            'f': \"0.671984851360321\",\n        }],\n [{\n            'v': 7,\n            'f': \"7\",\n        },\n\"4x106 m)2 to the gravitational force and is denoted by g\",\n{\n            'v': 145,\n            'f': \"145\",\n        },\n\"9\",\n\"science\",\n{\n            'v': 0.660064160823822,\n            'f': \"0.660064160823822\",\n        }],\n [{\n            'v': 8,\n            'f': \"8\",\n        },\n\" which is called the force of gravity, or just is easier? gravity\",\n{\n            'v': 149,\n            'f': \"149\",\n        },\n\"8\",\n\"science\",\n{\n            'v': 0.6523099541664124,\n            'f': \"0.6523099541664124\",\n        }],\n [{\n            'v': 9,\n            'f': \"9\",\n        },\n\" force f will be equal to the product of mass thus, the value of acceleration due to gravity and acceleration due to the gravitational of the earth, g = 9\",\n{\n            'v': 145,\n            'f': \"145\",\n        },\n\"9\",\n\"science\",\n{\n            'v': 0.6503154039382935,\n            'f': \"0.6503154039382935\",\n        }]],\n        columns: [[\"number\", \"index\"], [\"string\", \"sentence\"], [\"number\", \"page\"], [\"string\", \"grade\"], [\"string\", \"subject\"], [\"number\", \"similarity\"]],\n        columnOptions: [{\"width\": \"1px\", \"className\": \"index_column\"}],\n        rowsPerPage: 25,\n        helpUrl: \"https://colab.research.google.com/notebooks/data_table.ipynb\",\n        suppressOutputScrolling: true,\n        minimumWidth: undefined,\n      });\n    ",
            "text/html": [
              "\n",
              "  <div id=\"df-8504d996-8ac8-4fd3-b298-ef28d269f611\">\n",
              "    <div class=\"colab-df-container\">\n",
              "      <div>\n",
              "<style scoped>\n",
              "    .dataframe tbody tr th:only-of-type {\n",
              "        vertical-align: middle;\n",
              "    }\n",
              "\n",
              "    .dataframe tbody tr th {\n",
              "        vertical-align: top;\n",
              "    }\n",
              "\n",
              "    .dataframe thead th {\n",
              "        text-align: right;\n",
              "    }\n",
              "</style>\n",
              "<table border=\"1\" class=\"dataframe\">\n",
              "  <thead>\n",
              "    <tr style=\"text-align: right;\">\n",
              "      <th></th>\n",
              "      <th>sentence</th>\n",
              "      <th>page</th>\n",
              "      <th>grade</th>\n",
              "      <th>subject</th>\n",
              "      <th>similarity</th>\n",
              "    </tr>\n",
              "  </thead>\n",
              "  <tbody>\n",
              "    <tr>\n",
              "      <th>0</th>\n",
              "      <td>this force is called the gravitational force</td>\n",
              "      <td>141</td>\n",
              "      <td>9</td>\n",
              "      <td>science</td>\n",
              "      <td>0.798153</td>\n",
              "    </tr>\n",
              "    <tr>\n",
              "      <th>1</th>\n",
              "      <td>this force is known as the gravitational force</td>\n",
              "      <td>149</td>\n",
              "      <td>8</td>\n",
              "      <td>science</td>\n",
              "      <td>0.786039</td>\n",
              "    </tr>\n",
              "    <tr>\n",
              "      <th>2</th>\n",
              "      <td>4) gives the gravitational force</td>\n",
              "      <td>142</td>\n",
              "      <td>9</td>\n",
              "      <td>science</td>\n",
              "      <td>0.712268</td>\n",
              "    </tr>\n",
              "    <tr>\n",
              "      <th>3</th>\n",
              "      <td>u a force can act on an object with or withou...</td>\n",
              "      <td>154</td>\n",
              "      <td>8</td>\n",
              "      <td>science</td>\n",
              "      <td>0.700634</td>\n",
              "    </tr>\n",
              "    <tr>\n",
              "      <th>4</th>\n",
              "      <td>what do we call the gravitational force betwe...</td>\n",
              "      <td>154</td>\n",
              "      <td>9</td>\n",
              "      <td>science</td>\n",
              "      <td>0.696335</td>\n",
              "    </tr>\n",
              "    <tr>\n",
              "      <th>5</th>\n",
              "      <td>force</td>\n",
              "      <td>124</td>\n",
              "      <td>9</td>\n",
              "      <td>science</td>\n",
              "      <td>0.675620</td>\n",
              "    </tr>\n",
              "    <tr>\n",
              "      <th>6</th>\n",
              "      <td>force? the answer to these questions is gravi...</td>\n",
              "      <td>151</td>\n",
              "      <td>9</td>\n",
              "      <td>science</td>\n",
              "      <td>0.671985</td>\n",
              "    </tr>\n",
              "    <tr>\n",
              "      <th>7</th>\n",
              "      <td>4x106 m)2 to the gravitational force and is de...</td>\n",
              "      <td>145</td>\n",
              "      <td>9</td>\n",
              "      <td>science</td>\n",
              "      <td>0.660064</td>\n",
              "    </tr>\n",
              "    <tr>\n",
              "      <th>8</th>\n",
              "      <td>which is called the force of gravity, or just...</td>\n",
              "      <td>149</td>\n",
              "      <td>8</td>\n",
              "      <td>science</td>\n",
              "      <td>0.652310</td>\n",
              "    </tr>\n",
              "    <tr>\n",
              "      <th>9</th>\n",
              "      <td>force f will be equal to the product of mass ...</td>\n",
              "      <td>145</td>\n",
              "      <td>9</td>\n",
              "      <td>science</td>\n",
              "      <td>0.650315</td>\n",
              "    </tr>\n",
              "  </tbody>\n",
              "</table>\n",
              "</div>\n",
              "      <button class=\"colab-df-convert\" onclick=\"convertToInteractive('df-8504d996-8ac8-4fd3-b298-ef28d269f611')\"\n",
              "              title=\"Convert this dataframe to an interactive table.\"\n",
              "              style=\"display:none;\">\n",
              "        \n",
              "  <svg xmlns=\"http://www.w3.org/2000/svg\" height=\"24px\"viewBox=\"0 0 24 24\"\n",
              "       width=\"24px\">\n",
              "    <path d=\"M0 0h24v24H0V0z\" fill=\"none\"/>\n",
              "    <path d=\"M18.56 5.44l.94 2.06.94-2.06 2.06-.94-2.06-.94-.94-2.06-.94 2.06-2.06.94zm-11 1L8.5 8.5l.94-2.06 2.06-.94-2.06-.94L8.5 2.5l-.94 2.06-2.06.94zm10 10l.94 2.06.94-2.06 2.06-.94-2.06-.94-.94-2.06-.94 2.06-2.06.94z\"/><path d=\"M17.41 7.96l-1.37-1.37c-.4-.4-.92-.59-1.43-.59-.52 0-1.04.2-1.43.59L10.3 9.45l-7.72 7.72c-.78.78-.78 2.05 0 2.83L4 21.41c.39.39.9.59 1.41.59.51 0 1.02-.2 1.41-.59l7.78-7.78 2.81-2.81c.8-.78.8-2.07 0-2.86zM5.41 20L4 18.59l7.72-7.72 1.47 1.35L5.41 20z\"/>\n",
              "  </svg>\n",
              "      </button>\n",
              "      \n",
              "  <style>\n",
              "    .colab-df-container {\n",
              "      display:flex;\n",
              "      flex-wrap:wrap;\n",
              "      gap: 12px;\n",
              "    }\n",
              "\n",
              "    .colab-df-convert {\n",
              "      background-color: #E8F0FE;\n",
              "      border: none;\n",
              "      border-radius: 50%;\n",
              "      cursor: pointer;\n",
              "      display: none;\n",
              "      fill: #1967D2;\n",
              "      height: 32px;\n",
              "      padding: 0 0 0 0;\n",
              "      width: 32px;\n",
              "    }\n",
              "\n",
              "    .colab-df-convert:hover {\n",
              "      background-color: #E2EBFA;\n",
              "      box-shadow: 0px 1px 2px rgba(60, 64, 67, 0.3), 0px 1px 3px 1px rgba(60, 64, 67, 0.15);\n",
              "      fill: #174EA6;\n",
              "    }\n",
              "\n",
              "    [theme=dark] .colab-df-convert {\n",
              "      background-color: #3B4455;\n",
              "      fill: #D2E3FC;\n",
              "    }\n",
              "\n",
              "    [theme=dark] .colab-df-convert:hover {\n",
              "      background-color: #434B5C;\n",
              "      box-shadow: 0px 1px 3px 1px rgba(0, 0, 0, 0.15);\n",
              "      filter: drop-shadow(0px 1px 2px rgba(0, 0, 0, 0.3));\n",
              "      fill: #FFFFFF;\n",
              "    }\n",
              "  </style>\n",
              "\n",
              "      <script>\n",
              "        const buttonEl =\n",
              "          document.querySelector('#df-8504d996-8ac8-4fd3-b298-ef28d269f611 button.colab-df-convert');\n",
              "        buttonEl.style.display =\n",
              "          google.colab.kernel.accessAllowed ? 'block' : 'none';\n",
              "\n",
              "        async function convertToInteractive(key) {\n",
              "          const element = document.querySelector('#df-8504d996-8ac8-4fd3-b298-ef28d269f611');\n",
              "          const dataTable =\n",
              "            await google.colab.kernel.invokeFunction('convertToInteractive',\n",
              "                                                     [key], {});\n",
              "          if (!dataTable) return;\n",
              "\n",
              "          const docLinkHtml = 'Like what you see? Visit the ' +\n",
              "            '<a target=\"_blank\" href=https://colab.research.google.com/notebooks/data_table.ipynb>data table notebook</a>'\n",
              "            + ' to learn more about interactive tables.';\n",
              "          element.innerHTML = '';\n",
              "          dataTable['output_type'] = 'display_data';\n",
              "          await google.colab.output.renderOutput(dataTable, element);\n",
              "          const docLink = document.createElement('div');\n",
              "          docLink.innerHTML = docLinkHtml;\n",
              "          element.appendChild(docLink);\n",
              "        }\n",
              "      </script>\n",
              "    </div>\n",
              "  </div>\n",
              "  "
            ],
            "text/plain": [
              "                                            sentence  page grade  subject  \\\n",
              "0       this force is called the gravitational force   141     9  science   \n",
              "1     this force is known as the gravitational force   149     8  science   \n",
              "2                   4) gives the gravitational force   142     9  science   \n",
              "3   u a force can act on an object with or withou...   154     8  science   \n",
              "4   what do we call the gravitational force betwe...   154     9  science   \n",
              "5                                              force   124     9  science   \n",
              "6   force? the answer to these questions is gravi...   151     9  science   \n",
              "7  4x106 m)2 to the gravitational force and is de...   145     9  science   \n",
              "8   which is called the force of gravity, or just...   149     8  science   \n",
              "9   force f will be equal to the product of mass ...   145     9  science   \n",
              "\n",
              "   similarity  \n",
              "0    0.798153  \n",
              "1    0.786039  \n",
              "2    0.712268  \n",
              "3    0.700634  \n",
              "4    0.696335  \n",
              "5    0.675620  \n",
              "6    0.671985  \n",
              "7    0.660064  \n",
              "8    0.652310  \n",
              "9    0.650315  "
            ]
          },
          "execution_count": 24,
          "metadata": {},
          "output_type": "execute_result"
        }
      ],
      "source": [
        "result = get_edu_context('gravitational force')\n",
        "pd.DataFrame(result)"
      ]
    },
    {
      "cell_type": "markdown",
      "metadata": {},
      "source": [
        "## Try something on your own!\n",
        "#### Tip: Go to Data/ncert-science folder, open any one of the textbooks (pages \"11\" to \"end-5\") and search for related topics."
      ]
    },
    {
      "cell_type": "code",
      "execution_count": null,
      "metadata": {},
      "outputs": [],
      "source": [
        "your_query = \"type something here\"\n",
        "result = get_edu_context(your_query)\n",
        "pd.DataFrame(result)"
      ]
    },
    {
      "cell_type": "markdown",
      "metadata": {
        "id": "IsRlMXZi9pQV"
      },
      "source": [
        "# *The End... And The Begining... :)*\n"
      ]
    }
  ],
  "metadata": {
    "accelerator": "GPU",
    "colab": {
      "collapsed_sections": [],
      "name": "Query_TigerGraph.ipynb",
      "provenance": []
    },
    "kernelspec": {
      "display_name": "Python 3",
      "language": "python",
      "name": "python3"
    },
    "language_info": {
      "codemirror_mode": {
        "name": "ipython",
        "version": 3
      },
      "file_extension": ".py",
      "mimetype": "text/x-python",
      "name": "python",
      "nbconvert_exporter": "python",
      "pygments_lexer": "ipython3",
      "version": "3.9.0"
    }
  },
  "nbformat": 4,
  "nbformat_minor": 0
}
